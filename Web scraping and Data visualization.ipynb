{
 "cells": [
  {
   "cell_type": "markdown",
   "metadata": {},
   "source": [
    "# Web Scraping"
   ]
  },
  {
   "cell_type": "markdown",
   "metadata": {},
   "source": [
    "## What is Web Scraping?"
   ]
  },
  {
   "cell_type": "markdown",
   "metadata": {},
   "source": [
    " - Web scraping is an automated method used to extract large amounts of data from websites. The data on the websites are unstructured. Web scraping helps collect these unstructured data and store it in a structured form. There are different ways to scrape websites such as online Services, APIs or writing your own code. \n",
    "Here, we’ll see how to implement web scraping with python. "
   ]
  },
  {
   "cell_type": "markdown",
   "metadata": {},
   "source": [
    "![](web-scraping-image.jpg)"
   ]
  },
  {
   "cell_type": "markdown",
   "metadata": {},
   "source": [
    "## How Do You Scrape Data From A Website?"
   ]
  },
  {
   "cell_type": "markdown",
   "metadata": {},
   "source": [
    "When you run the code for web scraping, a request is sent to the URL that you have mentioned. As a response to the request, the server sends the data and allows you to read the HTML or XML page. The code then, parses the HTML or XML page, finds the data and extracts it. "
   ]
  },
  {
   "cell_type": "markdown",
   "metadata": {},
   "source": [
    " - To extract data using web scraping with python, you need to follow these basic steps:\n",
    "<a id='Find the URL that you want to scrape'></a>\n",
    " - Step 1. [Find the URL that you want to scrape.](#Find-the-URL-that-you-want-to-scrape)\n",
    "<a id='Use the requests library to download web pages'></a>    \n",
    " - Step 2: [Use the requests library to download web pages.](#Use-the-requests-library-to-download-web-pages)\n",
    "<a id='Use Beautiful Soup to parse and extract information'></a>    \n",
    " - Step 3: [Use Beautiful Soup to parse and extract information.](#Use-Beautiful-Soup-to-parse-and-extract-information)\n",
    "<a id='Inspecting the Page'></a>\n",
    " - Step 4. [Inspecting the Page](#Inspecting-the-Page)\n",
    "<a id='Create a Dataframe of the extracted information using Pandas'></a>    \n",
    " - Step 5: [Create a Dataframe of the extracted information using Pandas.](#Create-a-Dataframe-of-the-extracted-information-using-Pandas)\n",
    "<a id='Store the data in the required format '></a>\n",
    " - Step 6. [Store the data in the required format.](#Store-the-data-in-the-required-format) \n",
    "<a id='Inspecting the Page'></a>\n",
    " - Step 7: [Data Visualization](#Data-Visualization)\n",
    "\n",
    "\n"
   ]
  },
  {
   "cell_type": "markdown",
   "metadata": {},
   "source": [
    "### Step 1: Find the URL that you want to scrape"
   ]
  },
  {
   "cell_type": "markdown",
   "metadata": {},
   "source": [
    " - Browse through different sites and pick on to scrape. Check the \"Project Ideas\" section for inspiration.\n",
    " - Identify the information you'd like to scrape from the site. Decide the format of the output CSV file.\n",
    " - Summarize your project idea and outline your strategy in a Juptyer notebook. Use the \"New\" button above."
   ]
  },
  {
   "cell_type": "markdown",
   "metadata": {},
   "source": [
    "#### Project Outline "
   ]
  },
  {
   "cell_type": "markdown",
   "metadata": {},
   "source": [
    "1. Get book name, author name, star rating, rating count, price and URL of the book.\n",
    "2. Create a dataframe.\n",
    "3. Create a CSV file of the dataframe.\n",
    "4. Perform data visualization"
   ]
  },
  {
   "cell_type": "markdown",
   "metadata": {},
   "source": [
    "Here, we are going scrape Flipkart website to extract the information of books. The URL for this page is : "
   ]
  },
  {
   "cell_type": "markdown",
   "metadata": {},
   "source": [
    "'https://www.flipkart.com/search?q=book&otracker=search&otracker1=search&marketplace=FLIPKART&as-show=off&as=off&p%5B%5D=facets.language%255B%255D%3DEnglish'"
   ]
  },
  {
   "cell_type": "markdown",
   "metadata": {},
   "source": [
    "### Libraries used for Web Scraping "
   ]
  },
  {
   "cell_type": "markdown",
   "metadata": {},
   "source": [
    "As we know, Python has various applications and there are different libraries for different purposes.So, here I will be using the following libraries:"
   ]
  },
  {
   "cell_type": "markdown",
   "metadata": {},
   "source": [
    " - Requests library: The requests module allows you to send HTTP requests using Python.The HTTP request returns a Response Object with all the response data (content, encoding, status, etc). You can check the documentation [here](https://docs.python-requests.org/en/master/)\n",
    " \n",
    "\n",
    " - BeautifulSoup: Beautiful Soup is a Python package for parsing HTML and XML documents. It creates parse trees that is helpful to extract the data easily.[Documentation of BeautifulSoup](https://www.crummy.com/software/BeautifulSoup/bs4/doc/)\n",
    " \n",
    "\n",
    " - Pandas: Pandas is a library used for data manipulation and analysis. It is used to extract the data and store it in the desired format. "
   ]
  },
  {
   "cell_type": "markdown",
   "metadata": {},
   "source": [
    "### Step 2: Use the requests library to download web pages"
   ]
  },
  {
   "cell_type": "markdown",
   "metadata": {},
   "source": [
    " - Inspect the website's HTML source and identify the right URLs to download.\n",
    " - Download and save web pages locally using the requests library.\n",
    " - Create a function to automate downloading for different topics/search queries."
   ]
  },
  {
   "cell_type": "code",
   "execution_count": 88,
   "metadata": {},
   "outputs": [],
   "source": [
    "!pip install requests --upgrade --quiet"
   ]
  },
  {
   "cell_type": "code",
   "execution_count": 89,
   "metadata": {},
   "outputs": [],
   "source": [
    "import requests"
   ]
  },
  {
   "cell_type": "code",
   "execution_count": 4,
   "metadata": {},
   "outputs": [],
   "source": [
    "site_url = 'https://www.flipkart.com/search?q=book&otracker=search&otracker1=search&marketplace=FLIPKART&as-show=off&as=off&p%5B%5D=facets.language%255B%255D%3DEnglish'"
   ]
  },
  {
   "cell_type": "code",
   "execution_count": 5,
   "metadata": {},
   "outputs": [],
   "source": [
    "response = requests.get(site_url)"
   ]
  },
  {
   "cell_type": "code",
   "execution_count": 6,
   "metadata": {},
   "outputs": [
    {
     "data": {
      "text/plain": [
       "200"
      ]
     },
     "execution_count": 6,
     "metadata": {},
     "output_type": "execute_result"
    }
   ],
   "source": [
    "response.status_code             #check whether response is successful or not"
   ]
  },
  {
   "cell_type": "code",
   "execution_count": 7,
   "metadata": {},
   "outputs": [
    {
     "data": {
      "text/plain": [
       "506755"
      ]
     },
     "execution_count": 7,
     "metadata": {},
     "output_type": "execute_result"
    }
   ],
   "source": [
    "len(response.text)"
   ]
  },
  {
   "cell_type": "code",
   "execution_count": 8,
   "metadata": {},
   "outputs": [],
   "source": [
    "page_contents = response.text"
   ]
  },
  {
   "cell_type": "code",
   "execution_count": 9,
   "metadata": {},
   "outputs": [
    {
     "data": {
      "text/plain": [
       "'<!doctype html><html lang=\"en\"><head><link href=\"https://rukminim1.flixcart.com\" rel=\"preconnect\"/><link rel=\"stylesheet\" href=\"//static-assets-web.flixcart.com/www/linchpin/fk-cp-zion/css/app.chunk.3e7df7.css\"/><meta http-equiv=\"Content-type\" content=\"text/html; charset=utf-8\"/><meta http-equiv=\"X-UA-Compatible\" content=\"IE=Edge\"/><meta property=\"fb:page_id\" content=\"102988293558\"/><meta property=\"fb:admins\" content=\"658873552,624500995,100000233612389\"/><meta name=\"robots\" content=\"noodp\"/><link rel=\"shortcut icon\" href=\"https://static-assets-web.flixcart.com/www/promos/new/20150528-140547-favicon-retina.ico\"/><link type=\"application/opensearchdescription+xml\" rel=\"search\" href=\"/osdd.xml?v=2\"/><meta property=\"og:type\" content=\"website\"/><meta name=\"og_site_name\" property=\"og:site_name\" content=\"Flipkart.com\"/><link rel=\"apple-touch-icon\" sizes=\"57x57\" href=\"/apple-touch-icon-57x57.png\"/><link rel=\"apple-touch-icon\" sizes=\"72x72\" href=\"/apple-touch-icon-72x72.png\"/><link rel=\"apple-t'"
      ]
     },
     "execution_count": 9,
     "metadata": {},
     "output_type": "execute_result"
    }
   ],
   "source": [
    "page_contents[:1000]"
   ]
  },
  {
   "cell_type": "markdown",
   "metadata": {},
   "source": [
    "###  Step 3: Use Beautiful Soup to parse and extract information"
   ]
  },
  {
   "cell_type": "markdown",
   "metadata": {},
   "source": [
    " - Parse and explore the structure of downloaded web pages using Beautiful soup.\n",
    " - Use the right properties and methods to extract the required information.\n",
    " - Create functions to extract from the page into lists and dictionaries.\n",
    " - (Optional) Use a REST API to acquire additional information if required."
   ]
  },
  {
   "cell_type": "code",
   "execution_count": 10,
   "metadata": {},
   "outputs": [],
   "source": [
    "!pip install beautifulsoup4   --upgrade --quiet"
   ]
  },
  {
   "cell_type": "code",
   "execution_count": 11,
   "metadata": {},
   "outputs": [],
   "source": [
    "from bs4 import BeautifulSoup "
   ]
  },
  {
   "cell_type": "code",
   "execution_count": 12,
   "metadata": {},
   "outputs": [],
   "source": [
    "doc = BeautifulSoup(page_contents, 'html.parser')"
   ]
  },
  {
   "cell_type": "markdown",
   "metadata": {},
   "source": [
    "### Step 4: Inspecting the Page"
   ]
  },
  {
   "cell_type": "markdown",
   "metadata": {},
   "source": [
    " - The data is usually nested in tags. So, we inspect the page to see, under which tag the data we want to scrape is nested.\n",
    " - To inspect the page, just right click on the element and click on “Inspect”."
   ]
  },
  {
   "cell_type": "markdown",
   "metadata": {},
   "source": [
    "#### Get Title of the books"
   ]
  },
  {
   "cell_type": "code",
   "execution_count": 13,
   "metadata": {},
   "outputs": [],
   "source": [
    "#Search for the tag which contains book titles\n",
    "\n",
    "book_title_tags = doc.find_all('a', {'class' : 's1Q9rs'})"
   ]
  },
  {
   "cell_type": "code",
   "execution_count": 14,
   "metadata": {},
   "outputs": [
    {
     "data": {
      "text/plain": [
       "40"
      ]
     },
     "execution_count": 14,
     "metadata": {},
     "output_type": "execute_result"
    }
   ],
   "source": [
    "len(book_title_tags)"
   ]
  },
  {
   "cell_type": "code",
   "execution_count": 15,
   "metadata": {},
   "outputs": [],
   "source": [
    "#Create a list for all the book titles.\n",
    "\n",
    "book_titles = []\n",
    "\n",
    "for tag in book_title_tags:\n",
    "    book_titles.append(tag.text)"
   ]
  },
  {
   "cell_type": "code",
   "execution_count": 16,
   "metadata": {},
   "outputs": [
    {
     "data": {
      "text/plain": [
       "'Miss & Chief Nursery English Worksheets (Paperback)'"
      ]
     },
     "execution_count": 16,
     "metadata": {},
     "output_type": "execute_result"
    }
   ],
   "source": [
    "book_title_tags[0].text             #Name of the first book"
   ]
  },
  {
   "cell_type": "markdown",
   "metadata": {},
   "source": [
    "#### Get the URLs of the books"
   ]
  },
  {
   "cell_type": "code",
   "execution_count": 17,
   "metadata": {},
   "outputs": [],
   "source": [
    "#Search for the tag which contains URL of the book\n",
    "\n",
    "book_link_tags = doc.find_all('a', {'class' : 's1Q9rs'})"
   ]
  },
  {
   "cell_type": "code",
   "execution_count": 18,
   "metadata": {},
   "outputs": [
    {
     "data": {
      "text/plain": [
       "'/miss-chief-nursery-english-worksheets-paperback/p/itmf161652062749?pid=RBKG3GPE5NWKMHFH&lid=LSTRBKG3GPE5NWKMHFHRQBYF0&marketplace=FLIPKART&q=book&store=bks&srno=s_1_1&otracker=search&otracker1=search&fm=organic&iid=en_IFfLk6h3J8yFz5ucnfYzBs00MvfUHbWvV69%2Fk%2BMxweZmSYHRDzZlFfvvYFU9Cl4mDcRxlNFjDm0Pgh7wEdb0cg%3D%3D&ppt=None&ppn=None&ssid=rcz7xnpq1s0000001625754161047&qH=821f03288846297c'"
      ]
     },
     "execution_count": 18,
     "metadata": {},
     "output_type": "execute_result"
    }
   ],
   "source": [
    "book_link_tags[0]['href']"
   ]
  },
  {
   "cell_type": "code",
   "execution_count": 19,
   "metadata": {},
   "outputs": [],
   "source": [
    "base0_url = 'https://www.flipkart.com' \n",
    "book0_url = base0_url + book_link_tags[0]['href']"
   ]
  },
  {
   "cell_type": "code",
   "execution_count": 20,
   "metadata": {},
   "outputs": [
    {
     "data": {
      "text/plain": [
       "'https://www.flipkart.com/miss-chief-nursery-english-worksheets-paperback/p/itmf161652062749?pid=RBKG3GPE5NWKMHFH&lid=LSTRBKG3GPE5NWKMHFHRQBYF0&marketplace=FLIPKART&q=book&store=bks&srno=s_1_1&otracker=search&otracker1=search&fm=organic&iid=en_IFfLk6h3J8yFz5ucnfYzBs00MvfUHbWvV69%2Fk%2BMxweZmSYHRDzZlFfvvYFU9Cl4mDcRxlNFjDm0Pgh7wEdb0cg%3D%3D&ppt=None&ppn=None&ssid=rcz7xnpq1s0000001625754161047&qH=821f03288846297c'"
      ]
     },
     "execution_count": 20,
     "metadata": {},
     "output_type": "execute_result"
    }
   ],
   "source": [
    "book0_url                #URL of the 1st book"
   ]
  },
  {
   "cell_type": "code",
   "execution_count": 21,
   "metadata": {},
   "outputs": [
    {
     "data": {
      "text/plain": [
       "['https://www.flipkart.com/miss-chief-nursery-english-worksheets-paperback/p/itmf161652062749?pid=RBKG3GPE5NWKMHFH&lid=LSTRBKG3GPE5NWKMHFHRQBYF0&marketplace=FLIPKART&q=book&store=bks&srno=s_1_1&otracker=search&otracker1=search&fm=organic&iid=en_IFfLk6h3J8yFz5ucnfYzBs00MvfUHbWvV69%2Fk%2BMxweZmSYHRDzZlFfvvYFU9Cl4mDcRxlNFjDm0Pgh7wEdb0cg%3D%3D&ppt=None&ppn=None&ssid=rcz7xnpq1s0000001625754161047&qH=821f03288846297c',\n",
       " 'https://www.flipkart.com/my-first-learning-library-10-board-books-gift-box-set-kids-wall-mountable-easily-retractable/p/itmddf60b4bb1020?pid=9788194784609&lid=LSTBOK9788194784609PX12FI&marketplace=FLIPKART&q=book&store=bks&srno=s_1_2&otracker=search&otracker1=search&fm=organic&iid=en_IFfLk6h3J8yFz5ucnfYzBs00MvfUHbWvV69%2Fk%2BMxweYths35u2NoC%2FBcNIzOybCgJkRDwhks%2BKaz5YqB7X5LNA%3D%3D&ppt=None&ppn=None&ssid=rcz7xnpq1s0000001625754161047&qH=821f03288846297c']"
      ]
     },
     "execution_count": 21,
     "metadata": {},
     "output_type": "execute_result"
    }
   ],
   "source": [
    "#Create a list for all the URLs\n",
    "\n",
    "book_url = []\n",
    "base_url = 'https://www.flipkart.com'\n",
    "\n",
    "for tag in book_link_tags:\n",
    "    book_url.append(base_url + tag['href'])\n",
    "    \n",
    "book_url[:2]      #Shows 1st two URLs"
   ]
  },
  {
   "cell_type": "code",
   "execution_count": 22,
   "metadata": {},
   "outputs": [
    {
     "data": {
      "text/plain": [
       "40"
      ]
     },
     "execution_count": 22,
     "metadata": {},
     "output_type": "execute_result"
    }
   ],
   "source": [
    "len(book_url)"
   ]
  },
  {
   "cell_type": "markdown",
   "metadata": {},
   "source": [
    "#### Get discount price for all the books"
   ]
  },
  {
   "cell_type": "code",
   "execution_count": 43,
   "metadata": {},
   "outputs": [],
   "source": [
    "#Search for the tag which contains discount price tags\n",
    "\n",
    "discount_price_tags = doc.find_all('div', {'class' : '_30jeq3'})"
   ]
  },
  {
   "cell_type": "code",
   "execution_count": 44,
   "metadata": {},
   "outputs": [
    {
     "data": {
      "text/plain": [
       "40"
      ]
     },
     "execution_count": 44,
     "metadata": {},
     "output_type": "execute_result"
    }
   ],
   "source": [
    "len(discount_price_tags)"
   ]
  },
  {
   "cell_type": "code",
   "execution_count": 45,
   "metadata": {},
   "outputs": [
    {
     "data": {
      "text/plain": [
       "'₹209'"
      ]
     },
     "execution_count": 45,
     "metadata": {},
     "output_type": "execute_result"
    }
   ],
   "source": [
    "discount_price_tags[0].text"
   ]
  },
  {
   "cell_type": "code",
   "execution_count": 48,
   "metadata": {},
   "outputs": [],
   "source": [
    "#Create a list for all the discount prices for books.\n",
    "\n",
    "discount_price = []\n",
    "\n",
    "for tag in discount_price_tags:\n",
    "    discount_price.append(tag.text)"
   ]
  },
  {
   "cell_type": "code",
   "execution_count": 49,
   "metadata": {},
   "outputs": [
    {
     "data": {
      "text/plain": [
       "['₹209', '₹399', '₹465', '₹67', '₹205']"
      ]
     },
     "execution_count": 49,
     "metadata": {},
     "output_type": "execute_result"
    }
   ],
   "source": [
    "discount_price[:5]"
   ]
  },
  {
   "cell_type": "markdown",
   "metadata": {},
   "source": [
    "#### Get original price for all the books"
   ]
  },
  {
   "cell_type": "code",
   "execution_count": null,
   "metadata": {},
   "outputs": [],
   "source": [
    "<div class=\"_3I9_wc\">₹<!-- -->749</div>"
   ]
  },
  {
   "cell_type": "code",
   "execution_count": 77,
   "metadata": {},
   "outputs": [],
   "source": [
    "#Search for the tag which contains original price tags\n",
    "\n",
    "original_price_tags = doc.find_all('div', {'class' : '_3I9_wc'})"
   ]
  },
  {
   "cell_type": "code",
   "execution_count": 78,
   "metadata": {},
   "outputs": [
    {
     "data": {
      "text/plain": [
       "39"
      ]
     },
     "execution_count": 78,
     "metadata": {},
     "output_type": "execute_result"
    }
   ],
   "source": [
    "len(original_price_tags)"
   ]
  },
  {
   "cell_type": "code",
   "execution_count": 79,
   "metadata": {},
   "outputs": [
    {
     "data": {
      "text/plain": [
       "'₹220'"
      ]
     },
     "execution_count": 79,
     "metadata": {},
     "output_type": "execute_result"
    }
   ],
   "source": [
    "original_price_tags[0].text"
   ]
  },
  {
   "cell_type": "code",
   "execution_count": 80,
   "metadata": {},
   "outputs": [],
   "source": [
    "#Create a list for all the discount prices for books.\n",
    "\n",
    "original_price = []\n",
    "\n",
    "for tag in original_price_tags:\n",
    "    original_price.append(tag.text)"
   ]
  },
  {
   "cell_type": "code",
   "execution_count": 81,
   "metadata": {},
   "outputs": [
    {
     "data": {
      "text/plain": [
       "['₹220', '₹899', '₹749', '₹199', '₹285']"
      ]
     },
     "execution_count": 81,
     "metadata": {},
     "output_type": "execute_result"
    }
   ],
   "source": [
    "original_price[:5]"
   ]
  },
  {
   "cell_type": "markdown",
   "metadata": {},
   "source": [
    "#### Get author name"
   ]
  },
  {
   "cell_type": "code",
   "execution_count": 27,
   "metadata": {},
   "outputs": [],
   "source": [
    "#Search for the tag which contains author name\n",
    "\n",
    "lang_binding_author_tag = doc.find_all('div', {'class' : '_3Djpdu'})"
   ]
  },
  {
   "cell_type": "code",
   "execution_count": 28,
   "metadata": {},
   "outputs": [
    {
     "data": {
      "text/plain": [
       "40"
      ]
     },
     "execution_count": 28,
     "metadata": {},
     "output_type": "execute_result"
    }
   ],
   "source": [
    "len(lang_binding_author_tag)"
   ]
  },
  {
   "cell_type": "code",
   "execution_count": 29,
   "metadata": {},
   "outputs": [
    {
     "data": {
      "text/plain": [
       "'Unknown'"
      ]
     },
     "execution_count": 29,
     "metadata": {},
     "output_type": "execute_result"
    }
   ],
   "source": [
    "lang_binding_author_tag[0].text.split(',')[-1].strip()"
   ]
  },
  {
   "cell_type": "code",
   "execution_count": 30,
   "metadata": {},
   "outputs": [],
   "source": [
    "#Create a list for all author names.\n",
    "\n",
    "lang_binding_author = []\n",
    "\n",
    "for tag in lang_binding_author_tag:\n",
    "    lang_binding_author.append(tag.text.strip().split(',')[-1])"
   ]
  },
  {
   "cell_type": "code",
   "execution_count": 31,
   "metadata": {},
   "outputs": [
    {
     "data": {
      "text/plain": [
       "[' Unknown',\n",
       " ' Divya Nath',\n",
       " ' Aggarwal R. S.',\n",
       " ' Napoleon H.',\n",
       " ' Bakshi S.P.',\n",
       " ' Bond Ruskin',\n",
       " ' Lewis Norman',\n",
       " ' unknown',\n",
       " ' unknown',\n",
       " ' Raina Suresh']"
      ]
     },
     "execution_count": 31,
     "metadata": {},
     "output_type": "execute_result"
    }
   ],
   "source": [
    "lang_binding_author[:10]"
   ]
  },
  {
   "cell_type": "markdown",
   "metadata": {},
   "source": [
    "#### Get rating count"
   ]
  },
  {
   "cell_type": "code",
   "execution_count": 32,
   "metadata": {},
   "outputs": [],
   "source": [
    "rating_count_tags = doc.find_all('span', {'class' : '_2_R_DZ'})"
   ]
  },
  {
   "cell_type": "code",
   "execution_count": 33,
   "metadata": {},
   "outputs": [
    {
     "data": {
      "text/plain": [
       "30"
      ]
     },
     "execution_count": 33,
     "metadata": {},
     "output_type": "execute_result"
    }
   ],
   "source": [
    "len(rating_count_tags)"
   ]
  },
  {
   "cell_type": "code",
   "execution_count": 34,
   "metadata": {},
   "outputs": [
    {
     "data": {
      "text/plain": [
       "'(30)'"
      ]
     },
     "execution_count": 34,
     "metadata": {},
     "output_type": "execute_result"
    }
   ],
   "source": [
    "rating_count_tags[0].text"
   ]
  },
  {
   "cell_type": "code",
   "execution_count": 35,
   "metadata": {},
   "outputs": [],
   "source": [
    "#Create a list\n",
    "\n",
    "rating_count = []\n",
    "\n",
    "for tag in rating_count_tags:\n",
    "    rating_count.append(tag.text)"
   ]
  },
  {
   "cell_type": "code",
   "execution_count": 36,
   "metadata": {},
   "outputs": [
    {
     "data": {
      "text/plain": [
       "['(30)', '(51,729)', '(28,325)', '(48,972)', '(10,224)']"
      ]
     },
     "execution_count": 36,
     "metadata": {},
     "output_type": "execute_result"
    }
   ],
   "source": [
    "rating_count[:5]"
   ]
  },
  {
   "cell_type": "markdown",
   "metadata": {},
   "source": [
    "#### Get star rating"
   ]
  },
  {
   "cell_type": "code",
   "execution_count": 37,
   "metadata": {},
   "outputs": [],
   "source": [
    "star_rating_tags = doc.find_all('div', {'class' : \"_3LWZlK\"})"
   ]
  },
  {
   "cell_type": "code",
   "execution_count": 38,
   "metadata": {},
   "outputs": [
    {
     "data": {
      "text/plain": [
       "30"
      ]
     },
     "execution_count": 38,
     "metadata": {},
     "output_type": "execute_result"
    }
   ],
   "source": [
    "len(star_rating_tags)"
   ]
  },
  {
   "cell_type": "code",
   "execution_count": 39,
   "metadata": {},
   "outputs": [
    {
     "data": {
      "text/plain": [
       "'4.3'"
      ]
     },
     "execution_count": 39,
     "metadata": {},
     "output_type": "execute_result"
    }
   ],
   "source": [
    "star_rating_tags[0].text"
   ]
  },
  {
   "cell_type": "code",
   "execution_count": 40,
   "metadata": {},
   "outputs": [],
   "source": [
    "#Create a list\n",
    "\n",
    "star_rating = []\n",
    "\n",
    "for tag in star_rating_tags:\n",
    "    star_rating.append(tag.text)"
   ]
  },
  {
   "cell_type": "code",
   "execution_count": 41,
   "metadata": {},
   "outputs": [
    {
     "data": {
      "text/plain": [
       "['4.3', '4.4', '4.5', '4.4', '4.5']"
      ]
     },
     "execution_count": 41,
     "metadata": {},
     "output_type": "execute_result"
    }
   ],
   "source": [
    "star_rating[:5]"
   ]
  },
  {
   "cell_type": "markdown",
   "metadata": {},
   "source": [
    "### Step 5: Create a Dataframe of the extracted information using Pandas."
   ]
  },
  {
   "cell_type": "markdown",
   "metadata": {},
   "source": [
    " - Create functions for the end-to-end process of downloading, parsing, and saving CSVs.\n",
    " - Execute the function with different inputs to create a dataset of CSV files.\n",
    " - Verify the information in the CSV files by reading them back using Pandas."
   ]
  },
  {
   "cell_type": "code",
   "execution_count": 82,
   "metadata": {},
   "outputs": [],
   "source": [
    "#Create a dictionary, all keys corresponds to column names and value corresponds to list\n",
    "\n",
    "\n",
    "book_dict = {\n",
    "          'Title' : book_titles,\n",
    "          'Author_name' : lang_binding_author,\n",
    "          'Discount_price' : discount_price,\n",
    "          'Original_price' : original_price,\n",
    "           'Star_rating' : star_rating,\n",
    "           'Rating_count' : rating_count,\n",
    "            'URL' : book_url\n",
    "}"
   ]
  },
  {
   "cell_type": "code",
   "execution_count": 83,
   "metadata": {},
   "outputs": [],
   "source": [
    "import pandas as pd"
   ]
  },
  {
   "cell_type": "code",
   "execution_count": 84,
   "metadata": {},
   "outputs": [],
   "source": [
    "BOOKS_df = pd.DataFrame.from_dict(book_dict, orient = 'index')\n",
    "book_df = BOOKS_df.transpose()"
   ]
  },
  {
   "cell_type": "code",
   "execution_count": 85,
   "metadata": {},
   "outputs": [
    {
     "data": {
      "text/html": [
       "<div>\n",
       "<style scoped>\n",
       "    .dataframe tbody tr th:only-of-type {\n",
       "        vertical-align: middle;\n",
       "    }\n",
       "\n",
       "    .dataframe tbody tr th {\n",
       "        vertical-align: top;\n",
       "    }\n",
       "\n",
       "    .dataframe thead th {\n",
       "        text-align: right;\n",
       "    }\n",
       "</style>\n",
       "<table border=\"1\" class=\"dataframe\">\n",
       "  <thead>\n",
       "    <tr style=\"text-align: right;\">\n",
       "      <th></th>\n",
       "      <th>Title</th>\n",
       "      <th>Author_name</th>\n",
       "      <th>Discount_price</th>\n",
       "      <th>Original_price</th>\n",
       "      <th>Star_rating</th>\n",
       "      <th>Rating_count</th>\n",
       "      <th>URL</th>\n",
       "    </tr>\n",
       "  </thead>\n",
       "  <tbody>\n",
       "    <tr>\n",
       "      <th>0</th>\n",
       "      <td>Miss &amp; Chief Nursery English Worksheets (Paper...</td>\n",
       "      <td>Unknown</td>\n",
       "      <td>₹209</td>\n",
       "      <td>₹220</td>\n",
       "      <td>4.3</td>\n",
       "      <td>(30)</td>\n",
       "      <td>https://www.flipkart.com/miss-chief-nursery-en...</td>\n",
       "    </tr>\n",
       "    <tr>\n",
       "      <th>1</th>\n",
       "      <td>My First Learning Library (10 Board Books) - G...</td>\n",
       "      <td>Divya Nath</td>\n",
       "      <td>₹399</td>\n",
       "      <td>₹899</td>\n",
       "      <td>4.4</td>\n",
       "      <td>(51,729)</td>\n",
       "      <td>https://www.flipkart.com/my-first-learning-lib...</td>\n",
       "    </tr>\n",
       "    <tr>\n",
       "      <th>2</th>\n",
       "      <td>Quantitative Aptitude for Competitive Examinat...</td>\n",
       "      <td>Aggarwal R. S.</td>\n",
       "      <td>₹465</td>\n",
       "      <td>₹749</td>\n",
       "      <td>4.5</td>\n",
       "      <td>(28,325)</td>\n",
       "      <td>https://www.flipkart.com/quantitative-aptitude...</td>\n",
       "    </tr>\n",
       "    <tr>\n",
       "      <th>3</th>\n",
       "      <td>The Power of Your Subconscious Mind</td>\n",
       "      <td>Napoleon H.</td>\n",
       "      <td>₹67</td>\n",
       "      <td>₹199</td>\n",
       "      <td>4.4</td>\n",
       "      <td>(48,972)</td>\n",
       "      <td>https://www.flipkart.com/power-your-subconscio...</td>\n",
       "    </tr>\n",
       "    <tr>\n",
       "      <th>4</th>\n",
       "      <td>Objective General English</td>\n",
       "      <td>Bakshi S.P.</td>\n",
       "      <td>₹205</td>\n",
       "      <td>₹285</td>\n",
       "      <td>4.5</td>\n",
       "      <td>(10,224)</td>\n",
       "      <td>https://www.flipkart.com/objective-general-eng...</td>\n",
       "    </tr>\n",
       "  </tbody>\n",
       "</table>\n",
       "</div>"
      ],
      "text/plain": [
       "                                               Title      Author_name  \\\n",
       "0  Miss & Chief Nursery English Worksheets (Paper...          Unknown   \n",
       "1  My First Learning Library (10 Board Books) - G...       Divya Nath   \n",
       "2  Quantitative Aptitude for Competitive Examinat...   Aggarwal R. S.   \n",
       "3                The Power of Your Subconscious Mind      Napoleon H.   \n",
       "4                          Objective General English      Bakshi S.P.   \n",
       "\n",
       "  Discount_price Original_price Star_rating Rating_count  \\\n",
       "0           ₹209           ₹220         4.3         (30)   \n",
       "1           ₹399           ₹899         4.4     (51,729)   \n",
       "2           ₹465           ₹749         4.5     (28,325)   \n",
       "3            ₹67           ₹199         4.4     (48,972)   \n",
       "4           ₹205           ₹285         4.5     (10,224)   \n",
       "\n",
       "                                                 URL  \n",
       "0  https://www.flipkart.com/miss-chief-nursery-en...  \n",
       "1  https://www.flipkart.com/my-first-learning-lib...  \n",
       "2  https://www.flipkart.com/quantitative-aptitude...  \n",
       "3  https://www.flipkart.com/power-your-subconscio...  \n",
       "4  https://www.flipkart.com/objective-general-eng...  "
      ]
     },
     "execution_count": 85,
     "metadata": {},
     "output_type": "execute_result"
    }
   ],
   "source": [
    "book_df.head()"
   ]
  },
  {
   "cell_type": "markdown",
   "metadata": {},
   "source": [
    "### Step 6: Store the data in a required format"
   ]
  },
  {
   "cell_type": "markdown",
   "metadata": {},
   "source": [
    " - After extracting the data, you might want to store it in a format. \n",
    " - This format varies depending on your requirement.\n",
    " - For this example, we will store the extracted data in a CSV (Comma Separated Value) format.\n",
    " - To do this, I will add the following line to my code:"
   ]
  },
  {
   "cell_type": "code",
   "execution_count": 87,
   "metadata": {},
   "outputs": [],
   "source": [
    "book_df.to_csv('BOOKS.csv', index=False,header=True, encoding='utf-8')"
   ]
  },
  {
   "cell_type": "markdown",
   "metadata": {},
   "source": [
    "#### A file name “BOOKS.csv” is created and this file contains the extracted data."
   ]
  },
  {
   "cell_type": "markdown",
   "metadata": {},
   "source": [
    "![](xl-image.png)"
   ]
  },
  {
   "cell_type": "markdown",
   "metadata": {},
   "source": [
    "# Data Visualization"
   ]
  },
  {
   "cell_type": "code",
   "execution_count": 59,
   "metadata": {},
   "outputs": [],
   "source": [
    "import matplotlib.pyplot as plt\n",
    "import seaborn as sns\n",
    "import warnings\n",
    "warnings.filterwarnings('ignore')"
   ]
  },
  {
   "cell_type": "code",
   "execution_count": 60,
   "metadata": {},
   "outputs": [],
   "source": [
    "book_df =pd.read_csv('BOOKS.csv')"
   ]
  },
  {
   "cell_type": "code",
   "execution_count": 61,
   "metadata": {},
   "outputs": [
    {
     "data": {
      "text/html": [
       "<div>\n",
       "<style scoped>\n",
       "    .dataframe tbody tr th:only-of-type {\n",
       "        vertical-align: middle;\n",
       "    }\n",
       "\n",
       "    .dataframe tbody tr th {\n",
       "        vertical-align: top;\n",
       "    }\n",
       "\n",
       "    .dataframe thead th {\n",
       "        text-align: right;\n",
       "    }\n",
       "</style>\n",
       "<table border=\"1\" class=\"dataframe\">\n",
       "  <thead>\n",
       "    <tr style=\"text-align: right;\">\n",
       "      <th></th>\n",
       "      <th>Title</th>\n",
       "      <th>Author_name</th>\n",
       "      <th>Discount_price</th>\n",
       "      <th>Original_price</th>\n",
       "      <th>Star_rating</th>\n",
       "      <th>Rating_count</th>\n",
       "      <th>URL</th>\n",
       "    </tr>\n",
       "  </thead>\n",
       "  <tbody>\n",
       "    <tr>\n",
       "      <th>0</th>\n",
       "      <td>Miss &amp; Chief Nursery English Worksheets (Paper...</td>\n",
       "      <td>Unknown</td>\n",
       "      <td>₹209</td>\n",
       "      <td>₹209</td>\n",
       "      <td>4.3</td>\n",
       "      <td>(30)</td>\n",
       "      <td>https://www.flipkart.com/miss-chief-nursery-en...</td>\n",
       "    </tr>\n",
       "    <tr>\n",
       "      <th>1</th>\n",
       "      <td>My First Learning Library (10 Board Books) - G...</td>\n",
       "      <td>Divya Nath</td>\n",
       "      <td>₹399</td>\n",
       "      <td>₹399</td>\n",
       "      <td>4.4</td>\n",
       "      <td>(51,729)</td>\n",
       "      <td>https://www.flipkart.com/my-first-learning-lib...</td>\n",
       "    </tr>\n",
       "    <tr>\n",
       "      <th>2</th>\n",
       "      <td>Quantitative Aptitude for Competitive Examinat...</td>\n",
       "      <td>Aggarwal R. S.</td>\n",
       "      <td>₹465</td>\n",
       "      <td>₹465</td>\n",
       "      <td>4.5</td>\n",
       "      <td>(28,325)</td>\n",
       "      <td>https://www.flipkart.com/quantitative-aptitude...</td>\n",
       "    </tr>\n",
       "    <tr>\n",
       "      <th>3</th>\n",
       "      <td>The Power of Your Subconscious Mind</td>\n",
       "      <td>Napoleon H.</td>\n",
       "      <td>₹67</td>\n",
       "      <td>₹67</td>\n",
       "      <td>4.4</td>\n",
       "      <td>(48,972)</td>\n",
       "      <td>https://www.flipkart.com/power-your-subconscio...</td>\n",
       "    </tr>\n",
       "    <tr>\n",
       "      <th>4</th>\n",
       "      <td>Objective General English</td>\n",
       "      <td>Bakshi S.P.</td>\n",
       "      <td>₹205</td>\n",
       "      <td>₹205</td>\n",
       "      <td>4.5</td>\n",
       "      <td>(10,224)</td>\n",
       "      <td>https://www.flipkart.com/objective-general-eng...</td>\n",
       "    </tr>\n",
       "  </tbody>\n",
       "</table>\n",
       "</div>"
      ],
      "text/plain": [
       "                                               Title      Author_name  \\\n",
       "0  Miss & Chief Nursery English Worksheets (Paper...          Unknown   \n",
       "1  My First Learning Library (10 Board Books) - G...       Divya Nath   \n",
       "2  Quantitative Aptitude for Competitive Examinat...   Aggarwal R. S.   \n",
       "3                The Power of Your Subconscious Mind      Napoleon H.   \n",
       "4                          Objective General English      Bakshi S.P.   \n",
       "\n",
       "  Discount_price Original_price  Star_rating Rating_count  \\\n",
       "0           ₹209           ₹209          4.3         (30)   \n",
       "1           ₹399           ₹399          4.4     (51,729)   \n",
       "2           ₹465           ₹465          4.5     (28,325)   \n",
       "3            ₹67            ₹67          4.4     (48,972)   \n",
       "4           ₹205           ₹205          4.5     (10,224)   \n",
       "\n",
       "                                                 URL  \n",
       "0  https://www.flipkart.com/miss-chief-nursery-en...  \n",
       "1  https://www.flipkart.com/my-first-learning-lib...  \n",
       "2  https://www.flipkart.com/quantitative-aptitude...  \n",
       "3  https://www.flipkart.com/power-your-subconscio...  \n",
       "4  https://www.flipkart.com/objective-general-eng...  "
      ]
     },
     "execution_count": 61,
     "metadata": {},
     "output_type": "execute_result"
    }
   ],
   "source": [
    "book_df.head()"
   ]
  },
  {
   "cell_type": "code",
   "execution_count": 64,
   "metadata": {},
   "outputs": [
    {
     "data": {
      "text/plain": [
       "array([[<AxesSubplot:title={'center':'Star_rating'}>]], dtype=object)"
      ]
     },
     "execution_count": 64,
     "metadata": {},
     "output_type": "execute_result"
    },
    {
     "data": {
      "image/png": "[encoded data removed]",
      "text/plain": [
       "<Figure size 576x360 with 1 Axes>"
      ]
     },
     "metadata": {
      "needs_background": "light"
     },
     "output_type": "display_data"
    }
   ],
   "source": [
    "book_df.hist(bins=20,figsize=(8,5))"
   ]
  },
  {
   "cell_type": "markdown",
   "metadata": {},
   "source": [
    "#### Observation:"
   ]
  },
  {
   "cell_type": "markdown",
   "metadata": {},
   "source": [
    " - Maximum books received rating 4.5"
   ]
  },
  {
   "cell_type": "markdown",
   "metadata": {},
   "source": [
    "#### What is the Average rating for specific book?"
   ]
  },
  {
   "cell_type": "code",
   "execution_count": 67,
   "metadata": {},
   "outputs": [
    {
     "data": {
      "text/html": [
       "<div>\n",
       "<style scoped>\n",
       "    .dataframe tbody tr th:only-of-type {\n",
       "        vertical-align: middle;\n",
       "    }\n",
       "\n",
       "    .dataframe tbody tr th {\n",
       "        vertical-align: top;\n",
       "    }\n",
       "\n",
       "    .dataframe thead th {\n",
       "        text-align: right;\n",
       "    }\n",
       "</style>\n",
       "<table border=\"1\" class=\"dataframe\">\n",
       "  <thead>\n",
       "    <tr style=\"text-align: right;\">\n",
       "      <th></th>\n",
       "      <th>Star_rating</th>\n",
       "    </tr>\n",
       "    <tr>\n",
       "      <th>Title</th>\n",
       "      <th></th>\n",
       "    </tr>\n",
       "  </thead>\n",
       "  <tbody>\n",
       "    <tr>\n",
       "      <th>Miss &amp; Chief 101 Animals Stories (Paperback)</th>\n",
       "      <td>4.8</td>\n",
       "    </tr>\n",
       "    <tr>\n",
       "      <th>Indian Coast Guard Navik Gd/Db /Yantrik Section 1 Guide...</th>\n",
       "      <td>4.8</td>\n",
       "    </tr>\n",
       "    <tr>\n",
       "      <th>India's Struggle for Independence 1857-1947</th>\n",
       "      <td>4.6</td>\n",
       "    </tr>\n",
       "    <tr>\n",
       "      <th>Miss &amp; Chief Pre School Books - Pack (6 Titles) (Paperb...</th>\n",
       "      <td>4.6</td>\n",
       "    </tr>\n",
       "    <tr>\n",
       "      <th>Three Thousand Stitches</th>\n",
       "      <td>4.6</td>\n",
       "    </tr>\n",
       "    <tr>\n",
       "      <th>Miss &amp; Chief 505 Activities For Kids</th>\n",
       "      <td>4.6</td>\n",
       "    </tr>\n",
       "    <tr>\n",
       "      <th>13 Years Solved Papers NEET 2021</th>\n",
       "      <td>4.5</td>\n",
       "    </tr>\n",
       "    <tr>\n",
       "      <th>Quantitative Aptitude for Competitive Examinations - Qu...</th>\n",
       "      <td>4.5</td>\n",
       "    </tr>\n",
       "    <tr>\n",
       "      <th>Objective General English</th>\n",
       "      <td>4.5</td>\n",
       "    </tr>\n",
       "    <tr>\n",
       "      <th>33 Years NEET-AIPMT Chapterwise Solutions -Physics, Che...</th>\n",
       "      <td>4.5</td>\n",
       "    </tr>\n",
       "  </tbody>\n",
       "</table>\n",
       "</div>"
      ],
      "text/plain": [
       "                                                    Star_rating\n",
       "Title                                                          \n",
       "Miss & Chief 101 Animals Stories (Paperback)                4.8\n",
       "Indian Coast Guard Navik Gd/Db /Yantrik Section...          4.8\n",
       "India's Struggle for Independence 1857-1947                 4.6\n",
       "Miss & Chief Pre School Books - Pack (6 Titles)...          4.6\n",
       "Three Thousand Stitches                                     4.6\n",
       "Miss & Chief 505 Activities For Kids                        4.6\n",
       "13 Years Solved Papers NEET 2021                            4.5\n",
       "Quantitative Aptitude for Competitive Examinati...          4.5\n",
       "Objective General English                                   4.5\n",
       "33 Years NEET-AIPMT Chapterwise Solutions -Phys...          4.5"
      ]
     },
     "execution_count": 67,
     "metadata": {},
     "output_type": "execute_result"
    }
   ],
   "source": [
    "rating=book_df.groupby(\"Title\").agg({\n",
    "    \"Star_rating\" : \"sum\"\n",
    "}).sort_values('Star_rating',ascending=False)[:10]\n",
    "\n",
    "rating.head(10)"
   ]
  },
  {
   "cell_type": "code",
   "execution_count": 90,
   "metadata": {},
   "outputs": [
    {
     "data": {
      "image/png": "[encoded data removed]",
      "text/plain": [
       "<Figure size 432x288 with 1 Axes>"
      ]
     },
     "metadata": {
      "needs_background": "light"
     },
     "output_type": "display_data"
    }
   ],
   "source": [
    "rating.plot(kind =\"bar\", color = 'm')\n",
    "plt.ylabel(\"Star_rating\")\n",
    "plt.show()"
   ]
  },
  {
   "cell_type": "markdown",
   "metadata": {},
   "source": [
    "#### Observation:"
   ]
  },
  {
   "cell_type": "markdown",
   "metadata": {},
   "source": [
    " - Maximum star rating received is 4.8 by book named Miss & Chief 101 Animals Stories."
   ]
  },
  {
   "cell_type": "code",
   "execution_count": null,
   "metadata": {},
   "outputs": [],
   "source": []
  }
 ],
 "metadata": {
  "kernelspec": {
   "display_name": "Python 3",
   "language": "python",
   "name": "python3"
  },
  "language_info": {
   "codemirror_mode": {
    "name": "ipython",
    "version": 3
   },
   "file_extension": ".py",
   "mimetype": "text/x-python",
   "name": "python",
   "nbconvert_exporter": "python",
   "pygments_lexer": "ipython3",
   "version": "3.8.5"
  }
 },
 "nbformat": 4,
 "nbformat_minor": 2
}
